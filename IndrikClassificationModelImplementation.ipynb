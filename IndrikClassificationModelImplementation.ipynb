{
 "cells": [
  {
   "cell_type": "code",
   "execution_count": 2,
   "metadata": {},
   "outputs": [],
   "source": [
    "#Importando biliotecas necessárias\n",
    "from tensorflow.keras.models import Sequential\n",
    "from tensorflow.keras.layers import Conv2D, MaxPooling2D, Flatten, Dense, Dropout\n",
    "from tensorflow.python.keras.layers.normalization import BatchNormalization\n",
    "from tensorflow.keras.preprocessing.image import ImageDataGenerator\n",
    "import numpy as np\n",
    "from tensorflow.keras.preprocessing import image\n",
    "from FolderManager import FolderManager"
   ]
  },
  {
   "cell_type": "code",
   "execution_count": 2,
   "metadata": {},
   "outputs": [],
   "source": [
    "caanerin = FolderManager('dataset/Caanerin')\n",
    "indrik = FolderManager('dataset/Indrik')"
   ]
  },
  {
   "cell_type": "code",
   "execution_count": 4,
   "metadata": {},
   "outputs": [
    {
     "name": "stdout",
     "output_type": "stream",
     "text": [
      "Folder: test_set created.\n",
      "Folder: training_set created.\n",
      "Training data length:  1080\n",
      "Test data length:  270\n",
      "Training data length:  1235\n",
      "Test data length:  308\n"
     ]
    }
   ],
   "source": [
    "#fazendo o split da base de dados\n",
    "caanerin.trainTestSplitFolder(20)\n",
    "indrik.trainTestSplitFolder(20)"
   ]
  },
  {
   "cell_type": "code",
   "execution_count": 5,
   "metadata": {},
   "outputs": [],
   "source": [
    "classificador = Sequential()\n",
    "classificador.add(Conv2D(32, (3,3), input_shape = (64, 64, 3), activation = 'relu'))\n",
    "classificador.add(BatchNormalization())\n",
    "classificador.add(MaxPooling2D(pool_size = (2,2)))\n",
    "\n",
    "classificador.add(Conv2D(32, (3,3), input_shape = (64, 64, 3), activation = 'relu'))\n",
    "classificador.add(BatchNormalization())\n",
    "classificador.add(MaxPooling2D(pool_size = (2,2)))\n",
    "\n",
    "classificador.add(Flatten())\n",
    "\n",
    "classificador.add(Dense(units = 128, activation = 'relu'))\n",
    "classificador.add(Dropout(0.2))\n",
    "classificador.add(Dense(units = 128, activation = 'relu'))\n",
    "classificador.add(Dropout(0.2))\n",
    "classificador.add(Dense(units = 1, activation = 'sigmoid'))\n",
    "\n",
    "classificador.compile(optimizer = 'adam', loss = 'binary_crossentropy',\n",
    "                      metrics = ['accuracy'])"
   ]
  },
  {
   "cell_type": "code",
   "execution_count": 6,
   "metadata": {},
   "outputs": [
    {
     "name": "stdout",
     "output_type": "stream",
     "text": [
      "Found 2315 images belonging to 2 classes.\n",
      "Found 578 images belonging to 2 classes.\n"
     ]
    }
   ],
   "source": [
    "gerador_treinamento = ImageDataGenerator(rescale = 1./255,\n",
    "                                         rotation_range = 7,\n",
    "                                         horizontal_flip = True,\n",
    "                                         shear_range = 0.2,\n",
    "                                         height_shift_range = 0.07,\n",
    "                                         zoom_range = 0.2)\n",
    "gerador_teste = ImageDataGenerator(rescale = 1./255)\n",
    "\n",
    "base_treinamento = gerador_treinamento.flow_from_directory('dataset/training_set',\n",
    "                                                           target_size = (64, 64),\n",
    "                                                           batch_size = 32,\n",
    "                                                           class_mode = 'binary')\n",
    "base_teste = gerador_teste.flow_from_directory('dataset/test_set',\n",
    "                                               target_size = (64, 64),\n",
    "                                               batch_size = 32,\n",
    "                                               class_mode = 'binary')"
   ]
  },
  {
   "cell_type": "code",
   "execution_count": 7,
   "metadata": {},
   "outputs": [
    {
     "name": "stdout",
     "output_type": "stream",
     "text": [
      "Epoch 1/10\n",
      "73/72 [==============================] - 155s 2s/step - loss: 0.0165 - accuracy: 0.9905 - val_loss: 0.3367 - val_accuracy: 0.9031\n",
      "Epoch 2/10\n",
      "73/72 [==============================] - 154s 2s/step - loss: 2.9371e-09 - accuracy: 1.0000 - val_loss: 0.4201 - val_accuracy: 0.7370\n",
      "Epoch 3/10\n",
      "73/72 [==============================] - 157s 2s/step - loss: 1.0602e-08 - accuracy: 1.0000 - val_loss: 0.3077 - val_accuracy: 0.8304\n",
      "Epoch 4/10\n",
      "73/72 [==============================] - 159s 2s/step - loss: 2.3343e-08 - accuracy: 1.0000 - val_loss: 0.0983 - val_accuracy: 0.9931\n",
      "Epoch 5/10\n",
      "73/72 [==============================] - 153s 2s/step - loss: 6.2978e-09 - accuracy: 1.0000 - val_loss: 0.0059 - val_accuracy: 1.0000\n",
      "Epoch 6/10\n",
      "73/72 [==============================] - 152s 2s/step - loss: 4.4807e-09 - accuracy: 1.0000 - val_loss: 3.1328e-05 - val_accuracy: 1.0000\n",
      "Epoch 7/10\n",
      "73/72 [==============================] - 153s 2s/step - loss: 1.9632e-09 - accuracy: 1.0000 - val_loss: 5.0572e-08 - val_accuracy: 1.0000\n",
      "Epoch 8/10\n",
      "73/72 [==============================] - 162s 2s/step - loss: 2.5992e-07 - accuracy: 1.0000 - val_loss: 5.5600e-11 - val_accuracy: 1.0000\n",
      "Epoch 9/10\n",
      "73/72 [==============================] - 167s 2s/step - loss: 3.9503e-09 - accuracy: 1.0000 - val_loss: 2.0604e-13 - val_accuracy: 1.0000\n",
      "Epoch 10/10\n",
      "73/72 [==============================] - 162s 2s/step - loss: 4.1199e-10 - accuracy: 1.0000 - val_loss: 3.1802e-15 - val_accuracy: 1.0000\n"
     ]
    },
    {
     "data": {
      "text/plain": [
       "<tensorflow.python.keras.callbacks.History at 0x7fd60ea90510>"
      ]
     },
     "execution_count": 7,
     "metadata": {},
     "output_type": "execute_result"
    }
   ],
   "source": [
    "classificador.fit(base_treinamento, steps_per_epoch = 2315 / 32,\n",
    "                            epochs = 10, validation_data = base_teste,\n",
    "                            validation_steps = 578 / 32)"
   ]
  },
  {
   "cell_type": "code",
   "execution_count": null,
   "metadata": {},
   "outputs": [],
   "source": []
  },
  {
   "cell_type": "code",
   "execution_count": null,
   "metadata": {},
   "outputs": [],
   "source": []
  }
 ],
 "metadata": {
  "kernelspec": {
   "display_name": "Python 3",
   "language": "python",
   "name": "python3"
  },
  "language_info": {
   "codemirror_mode": {
    "name": "ipython",
    "version": 3
   },
   "file_extension": ".py",
   "mimetype": "text/x-python",
   "name": "python",
   "nbconvert_exporter": "python",
   "pygments_lexer": "ipython3",
   "version": "3.7.6"
  }
 },
 "nbformat": 4,
 "nbformat_minor": 4
}
