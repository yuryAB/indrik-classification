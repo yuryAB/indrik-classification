{
 "cells": [
  {
   "cell_type": "code",
   "execution_count": 1,
   "metadata": {},
   "outputs": [],
   "source": [
    "#Importando biliotecas necessárias\n",
    "from tensorflow.keras.models import Sequential\n",
    "from tensorflow.keras.layers import Conv2D, MaxPooling2D, Flatten, Dense, Dropout\n",
    "from tensorflow.python.keras.layers.normalization import BatchNormalization\n",
    "from tensorflow.keras.preprocessing.image import ImageDataGenerator\n",
    "import numpy as np\n",
    "from tensorflow.keras.preprocessing import image\n",
    "from FolderManager import FolderManager"
   ]
  },
  {
   "cell_type": "code",
   "execution_count": 2,
   "metadata": {},
   "outputs": [],
   "source": [
    "caanerin = FolderManager('dataset/Caanerin')\n",
    "indrik = FolderManager('dataset/Indrik')"
   ]
  },
  {
   "cell_type": "code",
   "execution_count": 4,
   "metadata": {},
   "outputs": [
    {
     "name": "stdout",
     "output_type": "stream",
     "text": [
      "Folder: test_set created.\n",
      "Folder: training_set created.\n",
      "Training data length:  1080\n",
      "Test data length:  270\n",
      "Training data length:  1235\n",
      "Test data length:  308\n"
     ]
    }
   ],
   "source": [
    "#fazendo o split da base de dados\n",
    "caanerin.trainTestSplitFolder(20)\n",
    "indrik.trainTestSplitFolder(20)"
   ]
  },
  {
   "cell_type": "code",
   "execution_count": 2,
   "metadata": {},
   "outputs": [],
   "source": [
    "classificador = Sequential()\n",
    "classificador.add(Conv2D(32, (3,3), input_shape = (64, 64, 3), activation = 'relu'))\n",
    "classificador.add(BatchNormalization())\n",
    "classificador.add(MaxPooling2D(pool_size = (2,2)))\n",
    "\n",
    "classificador.add(Conv2D(32, (3,3), input_shape = (64, 64, 3), activation = 'relu'))\n",
    "classificador.add(BatchNormalization())\n",
    "classificador.add(MaxPooling2D(pool_size = (2,2)))\n",
    "\n",
    "classificador.add(Flatten())\n",
    "\n",
    "classificador.add(Dense(units = 128, activation = 'relu'))\n",
    "classificador.add(Dropout(0.2))\n",
    "classificador.add(Dense(units = 128, activation = 'relu'))\n",
    "classificador.add(Dropout(0.2))\n",
    "classificador.add(Dense(units = 1, activation = 'sigmoid'))\n",
    "\n",
    "classificador.compile(optimizer = 'adam', loss = 'binary_crossentropy',\n",
    "                      metrics = ['accuracy'])"
   ]
  },
  {
   "cell_type": "code",
   "execution_count": 3,
   "metadata": {},
   "outputs": [
    {
     "name": "stdout",
     "output_type": "stream",
     "text": [
      "Found 2315 images belonging to 2 classes.\n",
      "Found 578 images belonging to 2 classes.\n"
     ]
    }
   ],
   "source": [
    "gerador_treinamento = ImageDataGenerator(rescale = 1./255,\n",
    "                                         rotation_range = 7,\n",
    "                                         horizontal_flip = True,\n",
    "                                         shear_range = 0.2,\n",
    "                                         height_shift_range = 0.07,\n",
    "                                         zoom_range = 0.2)\n",
    "gerador_teste = ImageDataGenerator(rescale = 1./255)\n",
    "\n",
    "base_treinamento = gerador_treinamento.flow_from_directory('dataset/training_set',\n",
    "                                                           target_size = (64, 64),\n",
    "                                                           batch_size = 32,\n",
    "                                                           class_mode = 'binary')\n",
    "base_teste = gerador_teste.flow_from_directory('dataset/test_set',\n",
    "                                               target_size = (64, 64),\n",
    "                                               batch_size = 32,\n",
    "                                               class_mode = 'binary')"
   ]
  },
  {
   "cell_type": "code",
   "execution_count": 9,
   "metadata": {},
   "outputs": [
    {
     "name": "stdout",
     "output_type": "stream",
     "text": [
      "Epoch 1/10\n",
      "73/72 [==============================] - 155s 2s/step - loss: 6.3814e-06 - accuracy: 1.0000 - val_loss: 0.0028 - val_accuracy: 1.0000\n",
      "Epoch 2/10\n",
      "73/72 [==============================] - 154s 2s/step - loss: 3.4966e-08 - accuracy: 1.0000 - val_loss: 5.8538e-07 - val_accuracy: 1.0000\n",
      "Epoch 3/10\n",
      "73/72 [==============================] - 154s 2s/step - loss: 1.3332e-08 - accuracy: 1.0000 - val_loss: 8.4225e-11 - val_accuracy: 1.0000\n",
      "Epoch 4/10\n",
      "73/72 [==============================] - 154s 2s/step - loss: 2.6671e-08 - accuracy: 1.0000 - val_loss: 9.9927e-12 - val_accuracy: 1.0000\n",
      "Epoch 5/10\n",
      "73/72 [==============================] - 152s 2s/step - loss: 9.3955e-07 - accuracy: 1.0000 - val_loss: 2.6004e-13 - val_accuracy: 1.0000\n",
      "Epoch 6/10\n",
      "73/72 [==============================] - 156s 2s/step - loss: 8.5788e-09 - accuracy: 1.0000 - val_loss: 2.9678e-13 - val_accuracy: 1.0000\n",
      "Epoch 7/10\n",
      "73/72 [==============================] - 158s 2s/step - loss: 1.7685e-09 - accuracy: 1.0000 - val_loss: 3.8211e-13 - val_accuracy: 1.0000\n",
      "Epoch 8/10\n",
      "73/72 [==============================] - 156s 2s/step - loss: 1.4045e-06 - accuracy: 1.0000 - val_loss: 1.0932e-16 - val_accuracy: 1.0000\n",
      "Epoch 9/10\n",
      "73/72 [==============================] - 158s 2s/step - loss: 7.9930e-08 - accuracy: 1.0000 - val_loss: 2.2889e-16 - val_accuracy: 1.0000\n",
      "Epoch 10/10\n",
      "73/72 [==============================] - 160s 2s/step - loss: 2.4510e-11 - accuracy: 1.0000 - val_loss: 3.0022e-16 - val_accuracy: 1.0000\n"
     ]
    },
    {
     "data": {
      "text/plain": [
       "<tensorflow.python.keras.callbacks.History at 0x7f8a12e83810>"
      ]
     },
     "execution_count": 9,
     "metadata": {},
     "output_type": "execute_result"
    }
   ],
   "source": [
    "classificador.fit(base_treinamento, steps_per_epoch = 2315 / 32,\n",
    "                            epochs = 10, validation_data = base_teste,\n",
    "                            validation_steps = 578 / 32)"
   ]
  },
  {
   "cell_type": "code",
   "execution_count": null,
   "metadata": {},
   "outputs": [],
   "source": []
  }
 ],
 "metadata": {
  "kernelspec": {
   "display_name": "Python 3",
   "language": "python",
   "name": "python3"
  },
  "language_info": {
   "codemirror_mode": {
    "name": "ipython",
    "version": 3
   },
   "file_extension": ".py",
   "mimetype": "text/x-python",
   "name": "python",
   "nbconvert_exporter": "python",
   "pygments_lexer": "ipython3",
   "version": "3.7.6"
  }
 },
 "nbformat": 4,
 "nbformat_minor": 4
}
